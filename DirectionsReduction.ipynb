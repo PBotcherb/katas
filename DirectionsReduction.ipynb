{
 "cells": [
  {
   "cell_type": "code",
   "execution_count": 5,
   "id": "3c736486",
   "metadata": {},
   "outputs": [],
   "source": [
    "#from solving https://www.codewars.com/kata/550f22f4d758534c1100025a\n",
    "\n",
    "def dir_reduc(directions):\n",
    "    reducedDir = []\n",
    "    prevDir = \"\"\n",
    "    \n",
    "    for i in directions:\n",
    "        if i == \"NORTH\":\n",
    "            if prevDir == \"SOUTH\":\n",
    "                reducedDir.pop()\n",
    "            else:\n",
    "                reducedDir.append(i)\n",
    "        elif i == \"SOUTH\":\n",
    "            if prevDir == \"NORTH\":\n",
    "                reducedDir.pop()\n",
    "            else:\n",
    "                reducedDir.append(i)\n",
    "        elif i == \"EAST\":\n",
    "            if prevDir == \"WEST\":\n",
    "                reducedDir.pop()\n",
    "            else:\n",
    "                reducedDir.append(i)\n",
    "        elif i == \"WEST\":\n",
    "            if prevDir == \"EAST\":\n",
    "                reducedDir.pop()\n",
    "            else:\n",
    "                reducedDir.append(i)\n",
    "        \n",
    "        if (reducedDir != []):\n",
    "            prevDir = reducedDir[len(reducedDir) - 1]\n",
    "        else:\n",
    "            prevDir = \"\"\n",
    "        \n",
    "    return reducedDir"
   ]
  },
  {
   "cell_type": "code",
   "execution_count": 6,
   "id": "80a608fb",
   "metadata": {},
   "outputs": [
    {
     "name": "stdout",
     "output_type": "stream",
     "text": [
      "['WEST']\n",
      "[]\n",
      "['WEST', 'WEST']\n",
      "['NORTH', 'WEST', 'SOUTH', 'EAST']\n"
     ]
    }
   ],
   "source": [
    "print(dir_reduc([\"NORTH\", \"SOUTH\", \"SOUTH\", \"EAST\", \"WEST\", \"NORTH\", \"WEST\"]))\n",
    "\n",
    "print(dir_reduc([\"NORTH\", \"SOUTH\", \"EAST\", \"WEST\"]))\n",
    "\n",
    "print(dir_reduc([\"NORTH\", \"EAST\", \"WEST\", \"SOUTH\", \"WEST\", \"WEST\"]))\n",
    "\n",
    "print(dir_reduc([\"NORTH\", \"WEST\", \"SOUTH\", \"EAST\"]))"
   ]
  },
  {
   "cell_type": "code",
   "execution_count": null,
   "id": "947b66bd",
   "metadata": {},
   "outputs": [],
   "source": []
  }
 ],
 "metadata": {
  "kernelspec": {
   "display_name": "Python 3",
   "language": "python",
   "name": "python3"
  },
  "language_info": {
   "codemirror_mode": {
    "name": "ipython",
    "version": 3
   },
   "file_extension": ".py",
   "mimetype": "text/x-python",
   "name": "python",
   "nbconvert_exporter": "python",
   "pygments_lexer": "ipython3",
   "version": "3.8.8"
  }
 },
 "nbformat": 4,
 "nbformat_minor": 5
}
