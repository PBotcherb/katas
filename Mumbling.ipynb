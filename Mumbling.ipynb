{
 "cells": [
  {
   "cell_type": "code",
   "execution_count": 1,
   "id": "1dd2c888",
   "metadata": {},
   "outputs": [],
   "source": [
    "#from solving https://www.codewars.com/kata/5667e8f4e3f572a8f2000039\n",
    "\n",
    "def accum(letters):\n",
    "    i = 1\n",
    "    newStr = \"\"\n",
    "    for x in letters:\n",
    "        for y in range(i):\n",
    "            if (y == 0):\n",
    "                newStr = newStr + x.upper()\n",
    "            else:\n",
    "                newStr = newStr + x.lower()\n",
    "        newStr = newStr + \"-\"\n",
    "        i = i + 1\n",
    "    newStr = newStr[:-1]\n",
    "    return newStr\n",
    "          "
   ]
  },
  {
   "cell_type": "code",
   "execution_count": 2,
   "id": "995f6db1",
   "metadata": {},
   "outputs": [
    {
     "name": "stdout",
     "output_type": "stream",
     "text": [
      "A-Bb-Ccc-Dddd\n",
      "R-Qq-Aaa-Eeee-Zzzzz-Tttttt-Yyyyyyy\n",
      "C-Ww-Aaa-Tttt\n"
     ]
    }
   ],
   "source": [
    "str = accum(\"abcd\")\n",
    "print(str)\n",
    "\n",
    "str = accum(\"RqaEzty\")\n",
    "print(str)\n",
    "\n",
    "str = accum(\"cwAt\")\n",
    "print(str)"
   ]
  },
  {
   "cell_type": "code",
   "execution_count": null,
   "id": "8b099a8c",
   "metadata": {},
   "outputs": [],
   "source": []
  }
 ],
 "metadata": {
  "kernelspec": {
   "display_name": "Python 3",
   "language": "python",
   "name": "python3"
  },
  "language_info": {
   "codemirror_mode": {
    "name": "ipython",
    "version": 3
   },
   "file_extension": ".py",
   "mimetype": "text/x-python",
   "name": "python",
   "nbconvert_exporter": "python",
   "pygments_lexer": "ipython3",
   "version": "3.8.8"
  }
 },
 "nbformat": 4,
 "nbformat_minor": 5
}
