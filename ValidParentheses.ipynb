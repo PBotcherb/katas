{
 "cells": [
  {
   "cell_type": "code",
   "execution_count": 1,
   "id": "4b3391b2",
   "metadata": {},
   "outputs": [],
   "source": [
    "#from solving https://www.codewars.com/kata/52774a314c2333f0a7000688\n",
    "\n",
    "def is_valid(brackets):\n",
    "    openBracket = 0\n",
    "    for i in brackets:\n",
    "        if (i == \"(\"):\n",
    "            openBracket = openBracket + 1\n",
    "        elif (i == \")\"):\n",
    "            if openBracket < 1:\n",
    "                return False\n",
    "            openBracket = openBracket - 1\n",
    "    \n",
    "    if (openBracket > 0):\n",
    "        return False\n",
    "    else:\n",
    "        return True"
   ]
  },
  {
   "cell_type": "code",
   "execution_count": 2,
   "id": "e30d3b67",
   "metadata": {},
   "outputs": [
    {
     "name": "stdout",
     "output_type": "stream",
     "text": [
      "True\n",
      "False\n",
      "False\n",
      "True\n"
     ]
    }
   ],
   "source": [
    "print(is_valid(\"()\"))\n",
    "print(is_valid(\")(()))\"))\n",
    "print(is_valid(\"(\"))\n",
    "print(is_valid(\"(())((()())())\"))"
   ]
  },
  {
   "cell_type": "code",
   "execution_count": null,
   "id": "393f0508",
   "metadata": {},
   "outputs": [],
   "source": []
  }
 ],
 "metadata": {
  "kernelspec": {
   "display_name": "Python 3",
   "language": "python",
   "name": "python3"
  },
  "language_info": {
   "codemirror_mode": {
    "name": "ipython",
    "version": 3
   },
   "file_extension": ".py",
   "mimetype": "text/x-python",
   "name": "python",
   "nbconvert_exporter": "python",
   "pygments_lexer": "ipython3",
   "version": "3.8.8"
  }
 },
 "nbformat": 4,
 "nbformat_minor": 5
}
